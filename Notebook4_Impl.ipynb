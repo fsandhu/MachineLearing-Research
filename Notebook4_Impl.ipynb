{
 "cells": [
  {
   "cell_type": "code",
   "execution_count": 1,
   "metadata": {},
   "outputs": [],
   "source": [
    "import warnings\n",
    "import numpy as np\n",
    "import pandas as pd\n",
    "%matplotlib inline\n",
    "import matplotlib.pyplot as plt\n",
    "\n",
    "from sklearn import datasets\n",
    "from sklearn.preprocessing import StandardScaler, PolynomialFeatures\n",
    "from sklearn.model_selection import train_test_split, GridSearchCV, cross_val_score\n",
    "from sklearn.linear_model import LinearRegression, Ridge, Lasso, ElasticNet, SGDRegressor\n",
    "from sklearn.metrics import mean_squared_error, r2_score"
   ]
  },
  {
   "cell_type": "code",
   "execution_count": 2,
   "metadata": {},
   "outputs": [
    {
     "name": "stdout",
     "output_type": "stream",
     "text": [
      "(506, 13) (506,)\n",
      "['CRIM' 'ZN' 'INDUS' 'CHAS' 'NOX' 'RM' 'AGE' 'DIS' 'RAD' 'TAX' 'PTRATIO'\n",
      " 'B' 'LSTAT']\n"
     ]
    }
   ],
   "source": [
    "# Load data\n",
    "boston = datasets.load_boston()\n",
    "print(boston.data.shape, boston.target.shape)\n",
    "print(boston.feature_names)"
   ]
  },
  {
   "cell_type": "code",
   "execution_count": 3,
   "metadata": {},
   "outputs": [],
   "source": [
    "df = pd.DataFrame(boston.data,columns=boston.feature_names)\n",
    "df = pd.concat([df,pd.Series(boston.target,name='MEDV')],axis=1)"
   ]
  },
  {
   "cell_type": "code",
   "execution_count": 5,
   "metadata": {},
   "outputs": [
    {
     "name": "stdout",
     "output_type": "stream",
     "text": [
      "(506, 13)\n",
      "(506,)\n"
     ]
    }
   ],
   "source": [
    "import numpy as np\n",
    "\n",
    "# It contains all attributes (all features and the target)\n",
    "allData = df\n",
    "\n",
    "\n",
    "# Use the following code to select ALL features\n",
    "X = df.drop(columns='MEDV')  # Data Matrix containing all features excluding the target\n",
    "\n",
    "\n",
    "y = df['MEDV'] # 1D targer vector\n",
    "\n",
    "print(X.shape)\n",
    "print(y.shape)"
   ]
  },
  {
   "cell_type": "code",
   "execution_count": 6,
   "metadata": {},
   "outputs": [],
   "source": [
    "\n",
    "scaler = StandardScaler().fit(X)\n",
    "X = scaler.transform(X)"
   ]
  },
  {
   "cell_type": "code",
   "execution_count": 7,
   "metadata": {},
   "outputs": [],
   "source": [
    "X_train, X_test, y_train, y_test = train_test_split(X, y, test_size=0.2, random_state=42)"
   ]
  },
  {
   "cell_type": "code",
   "execution_count": 8,
   "metadata": {},
   "outputs": [
    {
     "name": "stdout",
     "output_type": "stream",
     "text": [
      "Intercept: \n",
      " [22.49135076]\n",
      "Coefficients: \n",
      " [-0.88756887  0.51901873  0.03984921  0.74787209 -1.78124908  3.16828234\n",
      " -0.18834981 -2.84261664  1.52460556 -1.02564533 -1.92379304  1.1165961\n",
      " -3.54860949]\n",
      "Number of Iterations: \n",
      " 37\n",
      "\n",
      "----------------------------- Model Evaluation -----------------------------\n",
      "Training: Mean squared error: 21.74\n",
      "Test: Mean squared error: 24.74\n",
      "\n",
      "Training: Coefficient of determination r^2 variance score [1 is perfect prediction]: 0.75\n",
      "Test: Coefficient of determination r^2 variance score [1 is perfect prediction]: 0.66\n"
     ]
    }
   ],
   "source": [
    "# SGD Regression\n",
    "\n",
    "# Create SGDRegressor linear regression object\n",
    "lin_reg_sgd = SGDRegressor(max_iter=1000, eta0=0.01, penalty=\"elasticnet\", l1_ratio=0.0, alpha=0.01)\n",
    "\n",
    "# Train the model\n",
    "lin_reg_sgd.fit(X_train, y_train)\n",
    "\n",
    "\n",
    "\n",
    "# The intercept\n",
    "print(\"Intercept: \\n\", lin_reg_sgd.intercept_)\n",
    "\n",
    "# The coefficients\n",
    "print(\"Coefficients: \\n\", lin_reg_sgd.coef_)\n",
    "\n",
    "# The number of iterations\n",
    "print(\"Number of Iterations: \\n\", lin_reg_sgd.n_iter_)\n",
    "\n",
    "\n",
    "print(\"\\n----------------------------- Model Evaluation -----------------------------\")\n",
    "\n",
    "# Make prediction \n",
    "y_train_predicted_sgd = lin_reg_sgd.predict(X_train)\n",
    "y_test_predicted_sgd = lin_reg_sgd.predict(X_test)\n",
    "\n",
    "\n",
    "print(\"Training: Mean squared error: %.2f\"\n",
    "      % mean_squared_error(y_train, y_train_predicted_sgd))\n",
    "\n",
    "print(\"Test: Mean squared error: %.2f\"\n",
    "      % mean_squared_error(y_test, y_test_predicted_sgd))\n",
    "\n",
    "\n",
    "# Explained variance score: 1 is perfect prediction\n",
    "print(\"\\nTraining: Coefficient of determination r^2 variance score [1 is perfect prediction]: %.2f\" % \n",
    "      r2_score(y_train, y_train_predicted_sgd))\n",
    "\n",
    "\n",
    "\n",
    "\n",
    "# Explained variance score: 1 is perfect prediction\n",
    "print(\"Test: Coefficient of determination r^2 variance score [1 is perfect prediction]: %.2f\" % \n",
    "      r2_score(y_test, y_test_predicted_sgd))"
   ]
  },
  {
   "cell_type": "code",
   "execution_count": 9,
   "metadata": {},
   "outputs": [
    {
     "name": "stdout",
     "output_type": "stream",
     "text": [
      "Fitting 10 folds for each of 288 candidates, totalling 2880 fits\n"
     ]
    },
    {
     "name": "stderr",
     "output_type": "stream",
     "text": [
      "[Parallel(n_jobs=-1)]: Using backend LokyBackend with 4 concurrent workers.\n",
      "[Parallel(n_jobs=-1)]: Done  38 tasks      | elapsed:    2.3s\n",
      "[Parallel(n_jobs=-1)]: Done 876 tasks      | elapsed:   16.5s\n"
     ]
    },
    {
     "name": "stdout",
     "output_type": "stream",
     "text": [
      "Best Score (negative mean squared error): -23.754557\n",
      "Optimal Hyperparameter Values:  {'alpha': 0.01, 'eta0': 0.01, 'l1_ratio': 0.5, 'learning_rate': 'constant', 'max_iter': 1000}\n",
      "\n",
      "\n",
      "CPU times: user 2.72 s, sys: 155 ms, total: 2.88 s\n",
      "Wall time: 25.1 s\n"
     ]
    },
    {
     "name": "stderr",
     "output_type": "stream",
     "text": [
      "[Parallel(n_jobs=-1)]: Done 2880 out of 2880 | elapsed:   25.1s finished\n"
     ]
    }
   ],
   "source": [
    "%%time\n",
    "\n",
    "warnings.filterwarnings('ignore')\n",
    "\n",
    "# The param_grid tells Scikit-Learn to evaluate all combinations of the hyperparameter values\n",
    "param_grid = {'alpha': [0.1, 0.01, 0.001], 'learning_rate': [\"constant\", \"optimal\", \"invscaling\"], \n",
    "              'l1_ratio': [1, 0.5, 0.2, 0], 'max_iter':[100, 400, 1000, 10000],'eta0': [0.01, 0.001]}\n",
    "\n",
    "\n",
    "\n",
    "sgd = SGDRegressor()\n",
    "\n",
    "sgd_cv = GridSearchCV(sgd, param_grid, scoring='neg_mean_squared_error', cv=10, verbose=2, n_jobs=-1)\n",
    "sgd_cv.fit(X_train, y_train)\n",
    "\n",
    "\n",
    "params_optimal_sgd = sgd_cv.best_params_\n",
    "\n",
    "print(\"Best Score (negative mean squared error): %f\" % sgd_cv.best_score_)\n",
    "print(\"Optimal Hyperparameter Values: \", params_optimal_sgd)\n",
    "print(\"\\n\")"
   ]
  },
  {
   "cell_type": "code",
   "execution_count": 14,
   "metadata": {},
   "outputs": [
    {
     "name": "stdout",
     "output_type": "stream",
     "text": [
      "Intercept: \n",
      " [22.74936386]\n",
      "Coefficients: \n",
      " [-0.78092811  0.74963022  0.19684641  0.94408979 -2.22259309  3.03928575\n",
      " -0.35755978 -2.83423286  2.22378395 -1.32822218 -1.9248228   1.09453204\n",
      " -3.91091028]\n",
      "Number of Iterations: \n",
      " 20\n",
      "\n",
      "----------------------------- Model Evaluation -----------------------------\n",
      "Mean squared error: 22.14\n",
      "Coefficient of determination r^2 variance score [1 is perfect prediction]: 0.75\n"
     ]
    }
   ],
   "source": [
    "\n",
    "# SGD Regression\n",
    "\n",
    "# Create SGDRegressor linear regression object using the optimal hyperparameter values\n",
    "lin_reg_sgd = SGDRegressor(**params_optimal_sgd)\n",
    "\n",
    "# Train the model\n",
    "lin_reg_sgd.fit(X_train, y_train)\n",
    "\n",
    "\n",
    "# The intercept\n",
    "print(\"Intercept: \\n\", lin_reg_sgd.intercept_)\n",
    "\n",
    "# The coefficients\n",
    "print(\"Coefficients: \\n\", lin_reg_sgd.coef_)\n",
    "\n",
    "# The number of iterations\n",
    "print(\"Number of Iterations: \\n\", lin_reg_sgd.n_iter_)\n",
    "\n",
    "\n",
    "print(\"\\n----------------------------- Model Evaluation -----------------------------\")\n",
    "\n",
    "# Make prediction \n",
    "y_train_predicted_sgd = lin_reg_sgd.predict(X_train)\n",
    "\n",
    "\n",
    "print(\"Mean squared error: %.2f\"\n",
    "      % mean_squared_error(y_train, y_train_predicted_sgd))\n",
    "\n",
    "\n",
    "# Explained variance score: 1 is perfect prediction\n",
    "print(\"Coefficient of determination r^2 variance score [1 is perfect prediction]: %.2f\" % r2_score(y_train, y_train_predicted_sgd))"
   ]
  },
  {
   "cell_type": "code",
   "execution_count": 15,
   "metadata": {},
   "outputs": [
    {
     "name": "stdout",
     "output_type": "stream",
     "text": [
      "[-13.58023515 -20.25968689 -29.89696913 -47.70833555 -25.24162297\n",
      " -29.66762613 -20.132711   -22.37341366 -14.15770168 -35.65793057]\n",
      "Negative Mean Squared Error: -25.87 (+/- 19.68)\n"
     ]
    }
   ],
   "source": [
    "# Scoring Parameter for Regression:\n",
    "# https://scikit-learn.org/stable/modules/model_evaluation.html#scoring-parameter\n",
    "\n",
    "scores = cross_val_score(lin_reg_sgd, X_train, y_train, scoring='neg_mean_squared_error', cv=10)\n",
    "print(scores)\n",
    "\n",
    "print(\"Negative Mean Squared Error: %0.2f (+/- %0.2f)\" % (scores.mean(), scores.std() * 2))"
   ]
  },
  {
   "cell_type": "code",
   "execution_count": 16,
   "metadata": {},
   "outputs": [
    {
     "name": "stdout",
     "output_type": "stream",
     "text": [
      "Mean squared error: 24.00\n",
      "Coefficient of determination r^2 variance score [1 is perfect prediction]: 0.67\n"
     ]
    }
   ],
   "source": [
    "# Make prediction using the test data\n",
    "y_test_predicted = lin_reg_sgd.predict(X_test)\n",
    "\n",
    "\n",
    "test_mse_linear = mean_squared_error(y_test, y_test_predicted)\n",
    "\n",
    "print(\"Mean squared error: %.2f\"\n",
    "      % test_mse_linear)\n",
    "\n",
    "\n",
    "# Explained variance score: 1 is perfect prediction\n",
    "test_r2_linear = r2_score(y_test, y_test_predicted)\n",
    "print(\"Coefficient of determination r^2 variance score [1 is perfect prediction]: %.2f\" \n",
    "      % test_r2_linear)"
   ]
  },
  {
   "cell_type": "code",
   "execution_count": 17,
   "metadata": {},
   "outputs": [
    {
     "name": "stdout",
     "output_type": "stream",
     "text": [
      "No. of Original Features:  13\n",
      "No. of Augmented Features:  104\n"
     ]
    }
   ],
   "source": [
    "# Variable that speficies the degree of the polynomial to be added to the feature vector\n",
    "poly_degree = 2\n",
    "\n",
    "\n",
    "# Add polynomial terms with the feature vector using the sklearn PolynomialFeatures class\n",
    "poly_features = PolynomialFeatures(degree=poly_degree, include_bias=False)\n",
    "X_train_poly = poly_features.fit_transform(X_train)\n",
    "\n",
    "\n",
    "print(\"No. of Original Features: \", X_train.shape[1])\n",
    "print(\"No. of Augmented Features: \", X_train_poly.shape[1])"
   ]
  },
  {
   "cell_type": "code",
   "execution_count": 18,
   "metadata": {},
   "outputs": [
    {
     "name": "stdout",
     "output_type": "stream",
     "text": [
      "Fitting 10 folds for each of 96 candidates, totalling 960 fits\n"
     ]
    },
    {
     "name": "stderr",
     "output_type": "stream",
     "text": [
      "[Parallel(n_jobs=-1)]: Using backend LokyBackend with 4 concurrent workers.\n",
      "[Parallel(n_jobs=-1)]: Done 136 tasks      | elapsed:    0.4s\n",
      "[Parallel(n_jobs=-1)]: Done 836 tasks      | elapsed:   29.2s\n"
     ]
    },
    {
     "name": "stdout",
     "output_type": "stream",
     "text": [
      "Best Score (negative mean squared error): -14.925211\n",
      "Optimal Hyperparameter Values:  {'alpha': 0.1, 'eta0': 0.001, 'l1_ratio': 0.5, 'learning_rate': 'invscaling', 'max_iter': 1000}\n",
      "\n",
      "\n",
      "CPU times: user 1.25 s, sys: 66.4 ms, total: 1.32 s\n",
      "Wall time: 38.5 s\n"
     ]
    },
    {
     "name": "stderr",
     "output_type": "stream",
     "text": [
      "[Parallel(n_jobs=-1)]: Done 960 out of 960 | elapsed:   38.3s finished\n"
     ]
    }
   ],
   "source": [
    "%%time\n",
    "\n",
    "warnings.filterwarnings('ignore')\n",
    "\n",
    "# The param_grid tells Scikit-Learn to evaluate all combinations of the hyperparameter values\n",
    "param_grid = {'alpha': [0.1, 0.01], 'learning_rate': [\"invscaling\"], \n",
    "              'l1_ratio': [1, 0.5, 0.2, 0], 'max_iter':[100, 400, 1000, 5000],'eta0': [0.01, 0.001, 0.0001]}\n",
    "\n",
    "\n",
    "\n",
    "sgd = SGDRegressor()\n",
    "\n",
    "sgd_cv = GridSearchCV(sgd, param_grid, scoring='neg_mean_squared_error', cv=10, verbose=2, n_jobs=-1)\n",
    "sgd_cv.fit(X_train_poly, y_train)\n",
    "\n",
    "\n",
    "params_optimal_sgd = sgd_cv.best_params_\n",
    "\n",
    "print(\"Best Score (negative mean squared error): %f\" % sgd_cv.best_score_)\n",
    "print(\"Optimal Hyperparameter Values: \", params_optimal_sgd)\n",
    "print(\"\\n\")"
   ]
  },
  {
   "cell_type": "code",
   "execution_count": 19,
   "metadata": {},
   "outputs": [
    {
     "name": "stdout",
     "output_type": "stream",
     "text": [
      "Number of Iterations: \n",
      " 783\n",
      "\n",
      "----------------------------- Model Evaluation -----------------------------\n",
      "Mean squared error: 8.85\n",
      "Coefficient of determination r^2 variance score [1 is perfect prediction]: 0.90\n"
     ]
    }
   ],
   "source": [
    "# SGD Regression\n",
    "\n",
    "# Create SGDRegressor linear regression object using the optimal hyperparameter values\n",
    "lin_reg_sgd = SGDRegressor(**params_optimal_sgd)\n",
    "\n",
    "# Train the model\n",
    "lin_reg_sgd.fit(X_train_poly, y_train)\n",
    "\n",
    "\n",
    "# # The intercept\n",
    "# print(\"Intercept: \\n\", lin_reg_sgd.intercept_)\n",
    "\n",
    "# # The coefficients\n",
    "# print(\"Coefficients: \\n\", lin_reg_sgd.coef_)\n",
    "\n",
    "# The number of iterations\n",
    "print(\"Number of Iterations: \\n\", lin_reg_sgd.n_iter_)\n",
    "\n",
    "\n",
    "print(\"\\n----------------------------- Model Evaluation -----------------------------\")\n",
    "\n",
    "# Make prediction \n",
    "y_train_predicted_sgd = lin_reg_sgd.predict(X_train_poly)\n",
    "\n",
    "\n",
    "print(\"Mean squared error: %.2f\"\n",
    "      % mean_squared_error(y_train, y_train_predicted_sgd))\n",
    "\n",
    "\n",
    "# Explained variance score: 1 is perfect prediction\n",
    "print(\"Coefficient of determination r^2 variance score [1 is perfect prediction]: %.2f\" % r2_score(y_train, y_train_predicted_sgd))"
   ]
  },
  {
   "cell_type": "code",
   "execution_count": 20,
   "metadata": {},
   "outputs": [
    {
     "name": "stdout",
     "output_type": "stream",
     "text": [
      "Mean squared error: 14.54\n",
      "Coefficient of determination r^2 variance score [1 is perfect prediction]: 0.80\n"
     ]
    }
   ],
   "source": [
    "poly_features = PolynomialFeatures(degree=poly_degree, include_bias=False)\n",
    "X_test_poly = poly_features.fit_transform(X_test)\n",
    "\n",
    "# Make prediction using the test data\n",
    "y_test_predicted = lin_reg_sgd.predict(X_test_poly)\n",
    "\n",
    "test_mse_polynomial = mean_squared_error(y_test, y_test_predicted)\n",
    "\n",
    "print(\"Mean squared error: %.2f\"\n",
    "      % test_mse_polynomial)\n",
    "\n",
    "\n",
    "\n",
    "# Explained variance score: 1 is perfect prediction\n",
    "\n",
    "test_r2_polynomial = r2_score(y_test, y_test_predicted)\n",
    "print(\"Coefficient of determination r^2 variance score [1 is perfect prediction]: %.2f\" \n",
    "      % test_r2_polynomial)"
   ]
  },
  {
   "cell_type": "code",
   "execution_count": 21,
   "metadata": {},
   "outputs": [
    {
     "data": {
      "text/html": [
       "<div>\n",
       "<style scoped>\n",
       "    .dataframe tbody tr th:only-of-type {\n",
       "        vertical-align: middle;\n",
       "    }\n",
       "\n",
       "    .dataframe tbody tr th {\n",
       "        vertical-align: top;\n",
       "    }\n",
       "\n",
       "    .dataframe thead th {\n",
       "        text-align: right;\n",
       "    }\n",
       "</style>\n",
       "<table border=\"1\" class=\"dataframe\">\n",
       "  <thead>\n",
       "    <tr style=\"text-align: right;\">\n",
       "      <th></th>\n",
       "      <th>Metric</th>\n",
       "      <th>SGD Linear Regression</th>\n",
       "      <th>SGD Polynomial Regression</th>\n",
       "    </tr>\n",
       "  </thead>\n",
       "  <tbody>\n",
       "    <tr>\n",
       "      <th>0</th>\n",
       "      <td>MSE (test)</td>\n",
       "      <td>24.002255</td>\n",
       "      <td>14.544969</td>\n",
       "    </tr>\n",
       "    <tr>\n",
       "      <th>1</th>\n",
       "      <td>R2 Score (test)</td>\n",
       "      <td>0.672699</td>\n",
       "      <td>0.801661</td>\n",
       "    </tr>\n",
       "  </tbody>\n",
       "</table>\n",
       "</div>"
      ],
      "text/plain": [
       "            Metric  SGD Linear Regression  SGD Polynomial Regression\n",
       "0       MSE (test)              24.002255                  14.544969\n",
       "1  R2 Score (test)               0.672699                   0.801661"
      ]
     },
     "execution_count": 21,
     "metadata": {},
     "output_type": "execute_result"
    }
   ],
   "source": [
    "data = [[\"MSE (test)\", test_mse_linear, test_mse_polynomial], \n",
    "        [\"R2 Score (test)\", test_r2_linear, test_r2_polynomial]]\n",
    "pd.DataFrame(data, columns=[\"Metric\", \"SGD Linear Regression\", \"SGD Polynomial Regression\"])"
   ]
  },
  {
   "cell_type": "code",
   "execution_count": null,
   "metadata": {},
   "outputs": [],
   "source": []
  }
 ],
 "metadata": {
  "kernelspec": {
   "display_name": "Python 3",
   "language": "python",
   "name": "python3"
  },
  "language_info": {
   "codemirror_mode": {
    "name": "ipython",
    "version": 3
   },
   "file_extension": ".py",
   "mimetype": "text/x-python",
   "name": "python",
   "nbconvert_exporter": "python",
   "pygments_lexer": "ipython3",
   "version": "3.8.3"
  }
 },
 "nbformat": 4,
 "nbformat_minor": 4
}
