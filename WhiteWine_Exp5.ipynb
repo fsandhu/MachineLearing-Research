{
 "cells": [
  {
   "cell_type": "code",
   "execution_count": 1,
   "metadata": {},
   "outputs": [],
   "source": [
    "import pandas as pd\n",
    "\n",
    "wine = pd.read_csv('/Users/fatehkaran/datasets/winequality-white.csv', sep=';')"
   ]
  },
  {
   "cell_type": "code",
   "execution_count": 2,
   "metadata": {},
   "outputs": [],
   "source": [
    "wine.loc[(wine.quality <= 5),'quality']= 0\n",
    "wine.loc[(wine.quality > 5),'quality']= 1"
   ]
  },
  {
   "cell_type": "code",
   "execution_count": 3,
   "metadata": {},
   "outputs": [
    {
     "data": {
      "text/plain": [
       "1    3258\n",
       "0    1640\n",
       "Name: quality, dtype: int64"
      ]
     },
     "execution_count": 3,
     "metadata": {},
     "output_type": "execute_result"
    }
   ],
   "source": [
    "wine[\"quality\"].value_counts()"
   ]
  },
  {
   "cell_type": "code",
   "execution_count": 4,
   "metadata": {},
   "outputs": [],
   "source": [
    "import numpy as np\n",
    "%matplotlib inline\n",
    "import matplotlib.pyplot as plt\n",
    "\n",
    "from sklearn.linear_model import LogisticRegression\n",
    "from sklearn.metrics import confusion_matrix, precision_score, recall_score, f1_score, roc_curve, precision_recall_curve, classification_report\n",
    "from sklearn.model_selection import train_test_split, GridSearchCV, cross_val_score"
   ]
  },
  {
   "cell_type": "code",
   "execution_count": 5,
   "metadata": {},
   "outputs": [
    {
     "data": {
      "text/plain": [
       "quality                 1.000000\n",
       "alcohol                 0.383280\n",
       "pH                      0.083687\n",
       "sulphates               0.051858\n",
       "citric acid            -0.000700\n",
       "free sulfur dioxide    -0.001278\n",
       "fixed acidity          -0.089749\n",
       "residual sugar         -0.092756\n",
       "total sulfur dioxide   -0.170924\n",
       "chlorides              -0.183939\n",
       "volatile acidity       -0.225440\n",
       "density                -0.268696\n",
       "Name: quality, dtype: float64"
      ]
     },
     "execution_count": 5,
     "metadata": {},
     "output_type": "execute_result"
    }
   ],
   "source": [
    "corr_matrix = wine.corr()\n",
    "corr_matrix['quality'].sort_values(ascending=False)"
   ]
  },
  {
   "cell_type": "code",
   "execution_count": 6,
   "metadata": {},
   "outputs": [],
   "source": [
    "allData = wine\n",
    "\n",
    "X = wine[['chlorides', 'volatile acidity']]\n",
    "\n",
    "target = wine['quality']\n",
    "\n",
    "y = target.astype(np.int)\n",
    "\n",
    "X = X.values\n",
    "y = y.values"
   ]
  },
  {
   "cell_type": "code",
   "execution_count": 7,
   "metadata": {},
   "outputs": [],
   "source": [
    "X_train, X_test, y_train, y_test = train_test_split(X, y, test_size=0.20, random_state=2)"
   ]
  },
  {
   "cell_type": "code",
   "execution_count": 8,
   "metadata": {},
   "outputs": [
    {
     "name": "stdout",
     "output_type": "stream",
     "text": [
      "Fitting 3 folds for each of 150 candidates, totalling 450 fits\n"
     ]
    },
    {
     "name": "stderr",
     "output_type": "stream",
     "text": [
      "[Parallel(n_jobs=-1)]: Using backend LokyBackend with 4 concurrent workers.\n",
      "[Parallel(n_jobs=-1)]: Done  68 tasks      | elapsed:    2.7s\n"
     ]
    },
    {
     "name": "stdout",
     "output_type": "stream",
     "text": [
      "Best Score (accuracy): 0.685809\n",
      "Optimal Hyperparameter Values:  {'C': 10, 'max_iter': 3000, 'solver': 'sag', 'tol': 0.001}\n",
      "\n",
      "\n",
      "CPU times: user 517 ms, sys: 112 ms, total: 629 ms\n",
      "Wall time: 4.37 s\n"
     ]
    },
    {
     "name": "stderr",
     "output_type": "stream",
     "text": [
      "[Parallel(n_jobs=-1)]: Done 450 out of 450 | elapsed:    4.3s finished\n"
     ]
    }
   ],
   "source": [
    "%%time\n",
    "param_grid = {'solver': ['liblinear', 'newton-cg', 'lbfgs', 'sag', 'saga'], \n",
    "              'tol': [1e-3, 1e-4], 'max_iter':[3000, 5000, 10000],'C': [0.001, 0.1, 0.5, 1, 10]}\n",
    "\n",
    "lg_reg = LogisticRegression()\n",
    "\n",
    "lg_reg_cv = GridSearchCV(lg_reg, param_grid, scoring='accuracy', cv=3, verbose=1, n_jobs=-1)\n",
    "lg_reg_cv.fit(X_train, y_train)\n",
    "\n",
    "params_optimal = lg_reg_cv.best_params_\n",
    "\n",
    "print(\"Best Score (accuracy): %f\" % lg_reg_cv.best_score_)\n",
    "print(\"Optimal Hyperparameter Values: \", params_optimal)\n",
    "print(\"\\n\")"
   ]
  },
  {
   "cell_type": "code",
   "execution_count": 9,
   "metadata": {},
   "outputs": [
    {
     "data": {
      "text/plain": [
       "LogisticRegression(C=10, max_iter=3000, solver='sag', tol=0.001)"
      ]
     },
     "execution_count": 9,
     "metadata": {},
     "output_type": "execute_result"
    }
   ],
   "source": [
    "lg_reg_clf = LogisticRegression(**params_optimal)\n",
    "\n",
    "lg_reg_clf.fit(X_train, y_train)"
   ]
  },
  {
   "cell_type": "code",
   "execution_count": 10,
   "metadata": {},
   "outputs": [
    {
     "name": "stdout",
     "output_type": "stream",
     "text": [
      "No. of Iterations: [15]\n",
      "\n",
      "Weight Intercept: [2.7069078]\n",
      "Weight Coefficients: [[-12.64512382  -4.9884213 ]]\n"
     ]
    }
   ],
   "source": [
    "print(\"No. of Iterations:\", lg_reg_clf.n_iter_ )\n",
    "print(\"\\nWeight Intercept:\", lg_reg_clf.intercept_ )\n",
    "print(\"Weight Coefficients:\", lg_reg_clf.coef_ )"
   ]
  },
  {
   "cell_type": "code",
   "execution_count": 11,
   "metadata": {},
   "outputs": [
    {
     "name": "stdout",
     "output_type": "stream",
     "text": [
      "\n",
      "Test Accuracy:  0.6673469387755102\n",
      "\n",
      "Test Confusion Matrix:\n",
      "[[ 47 295]\n",
      " [ 31 607]]\n",
      "\n",
      "Test Precision = 0.672949\n",
      "Test Recall = 0.951411\n",
      "Test F1 Score = 0.788312\n",
      "\n",
      "Classification Report:\n",
      "              precision    recall  f1-score   support\n",
      "\n",
      "           0       0.60      0.14      0.22       342\n",
      "           1       0.67      0.95      0.79       638\n",
      "\n",
      "    accuracy                           0.67       980\n",
      "   macro avg       0.64      0.54      0.51       980\n",
      "weighted avg       0.65      0.67      0.59       980\n",
      "\n"
     ]
    }
   ],
   "source": [
    "y_test_predicted = lg_reg_clf.predict(X_test)\n",
    "#print(y_test_predict)\n",
    "\n",
    "accuracy_score_test = np.mean(y_test_predicted == y_test)\n",
    "print(\"\\nTest Accuracy: \", accuracy_score_test)\n",
    "\n",
    "\n",
    "print(\"\\nTest Confusion Matrix:\")\n",
    "print(confusion_matrix(y_test, y_test_predicted))\n",
    "\n",
    "\n",
    "precision_test = precision_score(y_test, y_test_predicted) \n",
    "print(\"\\nTest Precision = %f\" % precision_test)\n",
    "\n",
    "recall_test = recall_score(y_test, y_test_predicted)\n",
    "print(\"Test Recall = %f\" % recall_test)\n",
    "\n",
    "\n",
    "f1_test = f1_score(y_test, y_test_predicted)\n",
    "print(\"Test F1 Score = %f\" % f1_test)\n",
    "\n",
    "\n",
    "print(\"\\nClassification Report:\")\n",
    "print(classification_report(y_test, y_test_predicted))"
   ]
  },
  {
   "cell_type": "code",
   "execution_count": 12,
   "metadata": {},
   "outputs": [],
   "source": [
    "def decision_boundary_equation_based(clf, X):\n",
    "    \n",
    "    xmin, xmax = X.min() - 1, X.max() + 1\n",
    "    \n",
    "    w = clf.coef_[0] # We use index 0 to return a list from a 1 x 2 coef_ matrix\n",
    "    b = clf.intercept_[0]  \n",
    "\n",
    "    x1 = np.linspace(xmin, xmax, 100)\n",
    "    decision_boundary = -(b + w[0]*x1)/w[1]\n",
    "    plt.plot(x1, decision_boundary, \"k--\", linewidth=3)"
   ]
  },
  {
   "cell_type": "code",
   "execution_count": 13,
   "metadata": {},
   "outputs": [
    {
     "name": "stdout",
     "output_type": "stream",
     "text": [
      "0.34600000000000003\n",
      "0.009000000000000001\n",
      "1.1\n",
      "0.08\n"
     ]
    }
   ],
   "source": [
    "print(wine['chlorides'].max())\n",
    "print(wine['chlorides'].min())\n",
    "print(wine['volatile acidity'].max())\n",
    "print(wine['volatile acidity'].min())"
   ]
  },
  {
   "cell_type": "code",
   "execution_count": 14,
   "metadata": {},
   "outputs": [
    {
     "data": {
      "image/png": "[encoded data removed]",
      "text/plain": [
       "<Figure size 864x432 with 1 Axes>"
      ]
     },
     "metadata": {
      "needs_background": "light"
     },
     "output_type": "display_data"
    }
   ],
   "source": [
    "plt.figure(figsize=(12, 6))\n",
    "plt.plot(X[y==0, 0], X[y==0, 1], \"bs\")\n",
    "plt.plot(X[y==1, 0], X[y==1, 1], \"g^\")\n",
    "\n",
    "decision_boundary_equation_based(lg_reg_clf, X)\n",
    "\n",
    "plt.xlabel(\"chlorides\", fontsize=14)\n",
    "plt.ylabel(\"volatile acidity\", fontsize=14)\n",
    "plt.title(\"test accuracy: 66.7%\", fontsize=16)\n",
    "plt.axis([0.008, 0.4, 0.08, 1.1])\n",
    "plt.show()"
   ]
  },
  {
   "cell_type": "code",
   "execution_count": null,
   "metadata": {},
   "outputs": [],
   "source": []
  }
 ],
 "metadata": {
  "kernelspec": {
   "display_name": "Python 3",
   "language": "python",
   "name": "python3"
  },
  "language_info": {
   "codemirror_mode": {
    "name": "ipython",
    "version": 3
   },
   "file_extension": ".py",
   "mimetype": "text/x-python",
   "name": "python",
   "nbconvert_exporter": "python",
   "pygments_lexer": "ipython3",
   "version": "3.8.3"
  }
 },
 "nbformat": 4,
 "nbformat_minor": 4
}
